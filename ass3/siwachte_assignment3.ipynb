{
  "cells": [
    {
      "cell_type": "markdown",
      "metadata": {
        "id": "XSIPwHJdYR6E"
      },
      "source": [
        "# Assignment 3 - Transliteration"
      ]
    },
    {
      "cell_type": "markdown",
      "metadata": {
        "id": "pcy6UafEX5hB"
      },
      "source": [
        "### Setup [do not change]"
      ]
    },
    {
      "cell_type": "code",
      "execution_count": 1,
      "metadata": {
        "id": "kN-iTMK8ScoR"
      },
      "outputs": [
        {
          "name": "stdout",
          "output_type": "stream",
          "text": [
            "fatal: destination path 'eth-nlp-f22-hw3' already exists and is not an empty directory.\n",
            "Obtaining file:///Users/simon/repos/nlp-assignment/ass3/eth-nlp-f22-hw3\n",
            "  Preparing metadata (setup.py) ... \u001b[?25ldone\n",
            "\u001b[?25hRequirement already satisfied: numpy in /opt/homebrew/Caskroom/miniconda/base/envs/nlp/lib/python3.10/site-packages (from rayuela==0.1) (1.23.5)\n",
            "Requirement already satisfied: frozendict in /opt/homebrew/Caskroom/miniconda/base/envs/nlp/lib/python3.10/site-packages (from rayuela==0.1) (2.3.4)\n",
            "Requirement already satisfied: frozenlist in /opt/homebrew/Caskroom/miniconda/base/envs/nlp/lib/python3.10/site-packages (from rayuela==0.1) (1.3.3)\n",
            "Requirement already satisfied: pyconll in /opt/homebrew/Caskroom/miniconda/base/envs/nlp/lib/python3.10/site-packages (from rayuela==0.1) (3.1.0)\n",
            "Requirement already satisfied: nltk in /opt/homebrew/Caskroom/miniconda/base/envs/nlp/lib/python3.10/site-packages (from rayuela==0.1) (3.8)\n",
            "Requirement already satisfied: pytest in /opt/homebrew/Caskroom/miniconda/base/envs/nlp/lib/python3.10/site-packages (from rayuela==0.1) (7.2.0)\n",
            "Requirement already satisfied: dill in /opt/homebrew/Caskroom/miniconda/base/envs/nlp/lib/python3.10/site-packages (from rayuela==0.1) (0.3.6)\n",
            "Requirement already satisfied: tqdm in /opt/homebrew/Caskroom/miniconda/base/envs/nlp/lib/python3.10/site-packages (from nltk->rayuela==0.1) (4.64.1)\n",
            "Requirement already satisfied: click in /opt/homebrew/Caskroom/miniconda/base/envs/nlp/lib/python3.10/site-packages (from nltk->rayuela==0.1) (8.0.4)\n",
            "Requirement already satisfied: regex>=2021.8.3 in /opt/homebrew/Caskroom/miniconda/base/envs/nlp/lib/python3.10/site-packages (from nltk->rayuela==0.1) (2022.10.31)\n",
            "Requirement already satisfied: joblib in /opt/homebrew/Caskroom/miniconda/base/envs/nlp/lib/python3.10/site-packages (from nltk->rayuela==0.1) (1.2.0)\n",
            "Requirement already satisfied: tomli>=1.0.0 in /opt/homebrew/Caskroom/miniconda/base/envs/nlp/lib/python3.10/site-packages (from pytest->rayuela==0.1) (2.0.1)\n",
            "Requirement already satisfied: iniconfig in /opt/homebrew/Caskroom/miniconda/base/envs/nlp/lib/python3.10/site-packages (from pytest->rayuela==0.1) (1.1.1)\n",
            "Requirement already satisfied: exceptiongroup>=1.0.0rc8 in /opt/homebrew/Caskroom/miniconda/base/envs/nlp/lib/python3.10/site-packages (from pytest->rayuela==0.1) (1.0.4)\n",
            "Requirement already satisfied: attrs>=19.2.0 in /opt/homebrew/Caskroom/miniconda/base/envs/nlp/lib/python3.10/site-packages (from pytest->rayuela==0.1) (22.1.0)\n",
            "Requirement already satisfied: packaging in /opt/homebrew/Caskroom/miniconda/base/envs/nlp/lib/python3.10/site-packages (from pytest->rayuela==0.1) (21.3)\n",
            "Requirement already satisfied: pluggy<2.0,>=0.12 in /opt/homebrew/Caskroom/miniconda/base/envs/nlp/lib/python3.10/site-packages (from pytest->rayuela==0.1) (1.0.0)\n",
            "Requirement already satisfied: pyparsing!=3.0.5,>=2.0.2 in /opt/homebrew/Caskroom/miniconda/base/envs/nlp/lib/python3.10/site-packages (from packaging->pytest->rayuela==0.1) (3.0.9)\n",
            "Installing collected packages: rayuela\n",
            "  Attempting uninstall: rayuela\n",
            "    Found existing installation: rayuela 0.1\n",
            "    Uninstalling rayuela-0.1:\n",
            "      Successfully uninstalled rayuela-0.1\n",
            "  Running setup.py develop for rayuela\n",
            "Successfully installed rayuela-0.1\n"
          ]
        }
      ],
      "source": [
        "!git clone https://github.com/butoialexandra/eth-nlp-f22-hw3.git\n",
        "\n",
        "import os\n",
        "os.chdir('eth-nlp-f22-hw3')\n",
        "\n",
        "!pip install -e ."
      ]
    },
    {
      "cell_type": "code",
      "execution_count": 2,
      "metadata": {
        "id": "-4p3GQ0u2iX4"
      },
      "outputs": [
        {
          "name": "stdout",
          "output_type": "stream",
          "text": [
            "--2023-01-13 14:01:20--  https://docs.google.com/uc?export=download&id=1wlHbFChZFcBgEU8knAeaUIqE0W4EaJEC\n",
            "Resolving docs.google.com (docs.google.com)... 2a00:1450:400a:802::200e, 172.217.168.46\n",
            "Connecting to docs.google.com (docs.google.com)|2a00:1450:400a:802::200e|:443... connected.\n",
            "HTTP request sent, awaiting response... 303 See Other\n",
            "Location: https://doc-0s-50-docs.googleusercontent.com/docs/securesc/ha0ro937gcuc7l7deffksulhg5h7mbp1/asa16ove1fela9t8mdj09k3ug3c4vcqc/1673614875000/03249710210786382974/*/1wlHbFChZFcBgEU8knAeaUIqE0W4EaJEC?e=download&uuid=ee9db9ee-d7dd-4fde-b46c-ba832d8c68cf [following]\n",
            "Warning: wildcards not supported in HTTP.\n",
            "--2023-01-13 14:01:21--  https://doc-0s-50-docs.googleusercontent.com/docs/securesc/ha0ro937gcuc7l7deffksulhg5h7mbp1/asa16ove1fela9t8mdj09k3ug3c4vcqc/1673614875000/03249710210786382974/*/1wlHbFChZFcBgEU8knAeaUIqE0W4EaJEC?e=download&uuid=ee9db9ee-d7dd-4fde-b46c-ba832d8c68cf\n",
            "Resolving doc-0s-50-docs.googleusercontent.com (doc-0s-50-docs.googleusercontent.com)... 2a00:1450:400a:802::2001, 172.217.168.33\n",
            "Connecting to doc-0s-50-docs.googleusercontent.com (doc-0s-50-docs.googleusercontent.com)|2a00:1450:400a:802::2001|:443... connected.\n",
            "HTTP request sent, awaiting response... 200 OK\n",
            "Length: 45349 (44K) [application/octet-stream]\n",
            "Saving to: ‘test_cases.pkl’\n",
            "\n",
            "test_cases.pkl      100%[===================>]  44,29K  --.-KB/s    in 0,01s   \n",
            "\n",
            "2023-01-13 14:01:21 (3,10 MB/s) - ‘test_cases.pkl’ saved [45349/45349]\n",
            "\n"
          ]
        }
      ],
      "source": [
        "!wget --no-check-certificate 'https://docs.google.com/uc?export=download&id=1wlHbFChZFcBgEU8knAeaUIqE0W4EaJEC' -O 'test_cases.pkl'"
      ]
    },
    {
      "cell_type": "code",
      "execution_count": 3,
      "metadata": {
        "id": "hsr_q831W8rN"
      },
      "outputs": [],
      "source": [
        "from rayuela.base.semiring import Semiring, Real, Tropical\n",
        "from rayuela.base.symbol import Sym, ε, ε_1, ε_2\n",
        "from rayuela.base.misc import epsilon_filter\n",
        "\n",
        "from rayuela.fsa.fst import FST\n",
        "from rayuela.fsa.state import State, PairState\n",
        "\n",
        "import dill\n",
        "import numpy as np\n",
        "from math import exp, log\n",
        "\n",
        "from itertools import product\n",
        "\n",
        "from frozendict import frozendict"
      ]
    },
    {
      "cell_type": "markdown",
      "metadata": {
        "id": "wFL0YgNBYCf7"
      },
      "source": [
        "### Subquestion a) - Log Semiring"
      ]
    },
    {
      "cell_type": "code",
      "execution_count": 4,
      "metadata": {
        "id": "ny9YFmJ8avns"
      },
      "outputs": [],
      "source": [
        "class Log(Semiring):\n",
        "    def __init__(self, score):\n",
        "        self.score = score\n",
        "\n",
        "    def star(self):\n",
        "        # TODO: implement Kleene star\n",
        "        if self.score <= 0:\n",
        "            return np.log(1 - np.exp(self.score))\n",
        "        else:\n",
        "            return np.inf\n",
        "\n",
        "    def __float__(self):\n",
        "        return float(self.score)\n",
        "\n",
        "    def __add__(self, other):\n",
        "        # TODO: implement log addition\n",
        "        # For numerical stability you should use the using the log-sum-exp trick\n",
        "        # https://en.wikipedia.org/wiki/LogSumExp\n",
        "        return max(self.score, other.score)\n",
        "\n",
        "    def __mul__(self, other):\n",
        "        # TODO: implement log multiplication\n",
        "        return self.score + other.score\n",
        "\n",
        "    def __repr__(self):\n",
        "        return f\"{round(self.score, 15)}\"\n",
        "\n",
        "    def __eq__(self, other):\n",
        "        return np.allclose(float(self.score), float(other.score), atol=1e-3)\n",
        "\n",
        "    def __hash__(self):\n",
        "        return hash(self.score)\n",
        "\n",
        "# TODO: implement the log semiring one and zero\n",
        "Log.zero = Log(-np.inf)\n",
        "Log.one = Log(0)\n",
        "\n",
        "# i = Log(Log.one)\n",
        "# j = Log(1.0)\n",
        "\n",
        "# print(i + j)\n",
        "\n",
        "Log.idempotent = False\n",
        "Log.cancellative = True"
      ]
    },
    {
      "cell_type": "markdown",
      "metadata": {
        "id": "LH8LNXZpoCX6"
      },
      "source": [
        "### Before moving to the next subquestion, we give some examples of WFSTs to illustrate how to use the library `rayuela`."
      ]
    },
    {
      "cell_type": "code",
      "execution_count": 5,
      "metadata": {
        "id": "RJzHo7imoDb9"
      },
      "outputs": [
        {
          "data": {
            "text/html": [
              "\n",
              "\t\t<script>\n",
              "\t\ttry {\n",
              "\t\trequire.config({\n",
              "\t\tpaths: {\n",
              "\t\t\"d3\": \"https://cdnjs.cloudflare.com/ajax/libs/d3/4.13.0/d3\",\n",
              "\t\t\"dagreD3\": \"https://cdnjs.cloudflare.com/ajax/libs/dagre-d3/0.6.1/dagre-d3.min\"\n",
              "\t\t}\n",
              "\t\t});\n",
              "\t\t} catch {\n",
              "\t\t  [\"https://cdnjs.cloudflare.com/ajax/libs/d3/4.13.0/d3.js\",\n",
              "\t\t   \"https://cdnjs.cloudflare.com/ajax/libs/dagre-d3/0.6.1/dagre-d3.min.js\"].forEach(function (src) {\n",
              "\t\t\tvar tag = document.createElement('script');\n",
              "\t\t\ttag.src = src;\n",
              "\t\t\tdocument.body.appendChild(tag);\n",
              "\t\t  })\n",
              "\t\t}\n",
              "\t\ttry {\n",
              "\t\trequirejs(['d3', 'dagreD3'], function() {});\n",
              "\t\t} catch (e) {}\n",
              "\t\ttry {\n",
              "\t\trequire(['d3', 'dagreD3'], function() {});\n",
              "\t\t} catch (e) {}\n",
              "\t\t</script>\n",
              "\t\t<style>\n",
              "\t\t.node rect,\n",
              "\t\t.node circle,\n",
              "\t\t.node ellipse {\n",
              "\t\tstroke: #333;\n",
              "\t\tfill: #fff;\n",
              "\t\tstroke-width: 1px;\n",
              "\t\t}\n",
              "\n",
              "\t\t.edgePath path {\n",
              "\t\tstroke: #333;\n",
              "\t\tfill: #333;\n",
              "\t\tstroke-width: 1.5px;\n",
              "\t\t}\n",
              "\t\t</style>\n",
              "\t\t<center><svg width=\"850\" height=\"600\" id=\"fst_37230a9b0dd64773a446ffe75daac53e\"><g/></svg></center>\n",
              "\t\t<script>\n",
              "\t\t(function render_d3() {\n",
              "\t\tvar d3, dagreD3;\n",
              "\t\ttry { // requirejs is broken on external domains\n",
              "\t\t  d3 = require('d3');\n",
              "\t\t  dagreD3 = require('dagreD3');\n",
              "\t\t} catch (e) {\n",
              "\t\t  // for google colab\n",
              "\t\t  if(typeof window.d3 !== \"undefined\" && typeof window.dagreD3 !== \"undefined\") {\n",
              "\t\t\td3 = window.d3;\n",
              "\t\t\tdagreD3 = window.dagreD3;\n",
              "\t\t  } else { // not loaded yet, so wait and try again\n",
              "\t\t\tsetTimeout(render_d3, 50);\n",
              "\t\t\treturn;\n",
              "\t\t  }\n",
              "\t\t}\n",
              "\t\t//alert(\"loaded\");\n",
              "\t\tvar g = new dagreD3.graphlib.Graph().setGraph({ 'rankdir': 'LR' });\n",
              "\t\tg.setNode(\"0\", { label: \"0 / 1.0\" , shape: \"circle\" });\n",
              "g.node(\"0\").style = \"fill: #66c2a5\"; \n",
              "g.setNode(\"1\", { label: \"1\" , shape: \"circle\" });\n",
              "g.node(\"1\").style = \"fill: #8da0cb\"; \n",
              "g.setNode(\"2\", { label: \"2\" , shape: \"circle\" });\n",
              "g.node(\"2\").style = \"fill: #8da0cb\"; \n",
              "g.setNode(\"3\", { label: \"3\" , shape: \"circle\" });\n",
              "g.node(\"3\").style = \"fill: #8da0cb\"; \n",
              "g.setNode(\"4\", { label: \"4\" , shape: \"circle\" });\n",
              "g.node(\"4\").style = \"fill: #8da0cb\"; \n",
              "g.setNode(\"5\", { label: \"5\" , shape: \"circle\" });\n",
              "g.node(\"5\").style = \"fill: #8da0cb\"; \n",
              "g.setNode(\"6\", { label: \"6 / 1.0\" , shape: \"circle\" });\n",
              "g.node(\"6\").style = \"fill: #fc8d62\"; \n",
              "g.setEdge(\"0\", \"1\", { arrowhead: \"vee\", label: \"(formal, formal) / 0.2\\n(natural, natural) / 0.3\" });\n",
              "g.setEdge(\"0\", \"2\", { arrowhead: \"vee\", label: \"(learning, learning) / 0.2\" });\n",
              "g.setEdge(\"0\", \"3\", { arrowhead: \"vee\", label: \"(data, data) / 0.3\" });\n",
              "g.setEdge(\"1\", \"2\", { arrowhead: \"vee\", label: \"(language, language) / 0.6\" });\n",
              "g.setEdge(\"1\", \"4\", { arrowhead: \"vee\", label: \"(languages, languages) / 0.4\" });\n",
              "g.setEdge(\"2\", \"5\", { arrowhead: \"vee\", label: \"(is, is) / 1.0\" });\n",
              "g.setEdge(\"3\", \"5\", { arrowhead: \"vee\", label: \"(is, is) / 0.5\\n(are, are) / 0.5\" });\n",
              "g.setEdge(\"4\", \"5\", { arrowhead: \"vee\", label: \"(are, are) / 1.0\" });\n",
              "g.setEdge(\"5\", \"6\", { arrowhead: \"vee\", label: \"(fun, fun) / 1.0\" });\n",
              "var svg = d3.select(\"#fst_37230a9b0dd64773a446ffe75daac53e\"); \n",
              "\n",
              "\t\tvar inner = svg.select(\"g\");\n",
              "\n",
              "\t\t// Set up zoom support\n",
              "\t\tvar zoom = d3.zoom().scaleExtent([0.3, 5]).on(\"zoom\", function() {\n",
              "\t\tinner.attr(\"transform\", d3.event.transform);\n",
              "\t\t});\n",
              "\t\tsvg.call(zoom);\n",
              "\n",
              "\t\t// Create the renderer\n",
              "\t\tvar render = new dagreD3.render();\n",
              "\n",
              "\t\t// Run the renderer. This is what draws the final graph.\n",
              "\t\trender(inner, g);\n",
              "\n",
              "\t\t// Center the graph\n",
              "\t\tvar initialScale = 0.75;\n",
              "\t\tsvg.call(zoom.transform, d3.zoomIdentity.translate(\n",
              "\t\t    (svg.attr(\"width\") - g.graph().width * initialScale) / 2, 20).scale(initialScale));\n",
              "\n",
              "\t\tsvg.attr('height', g.graph().height * initialScale + 50);\n",
              "\t\t})();\n",
              "\n",
              "\t\t</script>\n",
              "\t\t"
            ],
            "text/plain": [
              "WFSA(7 states, <class 'rayuela.base.semiring.Real'>)"
            ]
          },
          "execution_count": 5,
          "metadata": {},
          "output_type": "execute_result"
        }
      ],
      "source": [
        "# A simple language model encoded by a WFST\n",
        "\n",
        "sem = Real # the Real semiring\n",
        "fst = FST(sem) # a WFST in the Real semiring\n",
        "\n",
        "# add transitions\n",
        "fst.add_arc(State(0), Sym('formal'), Sym('formal'), State(1), Real(0.2))\n",
        "fst.add_arc(State(0), Sym('natural'), Sym('natural'), State(1), Real(0.3))\n",
        "fst.add_arc(State(0), Sym('learning'), Sym('learning'), State(2), Real(0.2))\n",
        "fst.add_arc(State(0), Sym('data'), Sym('data'), State(3), Real(0.3))\n",
        "\n",
        "fst.add_arc(State(1), Sym('language'), Sym('language'), State(2), Real(0.6))\n",
        "fst.add_arc(State(1), Sym('languages'), Sym('languages'), State(4), Real(0.4))\n",
        "\n",
        "fst.add_arc(State(2), Sym('is'), Sym('is'), State(5), Real(1.0))\n",
        "\n",
        "fst.add_arc(State(5), Sym('fun'), Sym('fun'), State(6), Real(1.0))\n",
        "\n",
        "fst.add_arc(State(3), Sym('is'), Sym('is'), State(5), Real(0.5))\n",
        "fst.add_arc(State(3), Sym('are'), Sym('are'), State(5), Real(0.5))\n",
        "\n",
        "fst.add_arc(State(4), Sym('are'), Sym('are'), State(5), Real(1.0))\n",
        "\n",
        "# set initial weights\n",
        "# if not set, it defaults to semiring zero\n",
        "fst.set_I(State(0), Real(1.0))\n",
        "# set final weights\n",
        "fst.set_F(State(6), Real(1.0))\n",
        "\n",
        "# visualize\n",
        "fst"
      ]
    },
    {
      "cell_type": "code",
      "execution_count": 6,
      "metadata": {
        "id": "6FpH94cRoGai"
      },
      "outputs": [
        {
          "data": {
            "text/html": [
              "\n",
              "\t\t<script>\n",
              "\t\ttry {\n",
              "\t\trequire.config({\n",
              "\t\tpaths: {\n",
              "\t\t\"d3\": \"https://cdnjs.cloudflare.com/ajax/libs/d3/4.13.0/d3\",\n",
              "\t\t\"dagreD3\": \"https://cdnjs.cloudflare.com/ajax/libs/dagre-d3/0.6.1/dagre-d3.min\"\n",
              "\t\t}\n",
              "\t\t});\n",
              "\t\t} catch {\n",
              "\t\t  [\"https://cdnjs.cloudflare.com/ajax/libs/d3/4.13.0/d3.js\",\n",
              "\t\t   \"https://cdnjs.cloudflare.com/ajax/libs/dagre-d3/0.6.1/dagre-d3.min.js\"].forEach(function (src) {\n",
              "\t\t\tvar tag = document.createElement('script');\n",
              "\t\t\ttag.src = src;\n",
              "\t\t\tdocument.body.appendChild(tag);\n",
              "\t\t  })\n",
              "\t\t}\n",
              "\t\ttry {\n",
              "\t\trequirejs(['d3', 'dagreD3'], function() {});\n",
              "\t\t} catch (e) {}\n",
              "\t\ttry {\n",
              "\t\trequire(['d3', 'dagreD3'], function() {});\n",
              "\t\t} catch (e) {}\n",
              "\t\t</script>\n",
              "\t\t<style>\n",
              "\t\t.node rect,\n",
              "\t\t.node circle,\n",
              "\t\t.node ellipse {\n",
              "\t\tstroke: #333;\n",
              "\t\tfill: #fff;\n",
              "\t\tstroke-width: 1px;\n",
              "\t\t}\n",
              "\n",
              "\t\t.edgePath path {\n",
              "\t\tstroke: #333;\n",
              "\t\tfill: #333;\n",
              "\t\tstroke-width: 1.5px;\n",
              "\t\t}\n",
              "\t\t</style>\n",
              "\t\t<center><svg width=\"850\" height=\"600\" id=\"fst_f51013671d4b400d97d5b310d2af8308\"><g/></svg></center>\n",
              "\t\t<script>\n",
              "\t\t(function render_d3() {\n",
              "\t\tvar d3, dagreD3;\n",
              "\t\ttry { // requirejs is broken on external domains\n",
              "\t\t  d3 = require('d3');\n",
              "\t\t  dagreD3 = require('dagreD3');\n",
              "\t\t} catch (e) {\n",
              "\t\t  // for google colab\n",
              "\t\t  if(typeof window.d3 !== \"undefined\" && typeof window.dagreD3 !== \"undefined\") {\n",
              "\t\t\td3 = window.d3;\n",
              "\t\t\tdagreD3 = window.dagreD3;\n",
              "\t\t  } else { // not loaded yet, so wait and try again\n",
              "\t\t\tsetTimeout(render_d3, 50);\n",
              "\t\t\treturn;\n",
              "\t\t  }\n",
              "\t\t}\n",
              "\t\t//alert(\"loaded\");\n",
              "\t\tvar g = new dagreD3.graphlib.Graph().setGraph({ 'rankdir': 'LR' });\n",
              "\t\tg.setNode(\"0\", { label: \"0 / 1.0\" , shape: \"circle\" });\n",
              "g.node(\"0\").style = \"fill: #66c2a5\"; \n",
              "g.setNode(\"1\", { label: \"1\" , shape: \"circle\" });\n",
              "g.node(\"1\").style = \"fill: #8da0cb\"; \n",
              "g.setNode(\"2\", { label: \"2\" , shape: \"circle\" });\n",
              "g.node(\"2\").style = \"fill: #8da0cb\"; \n",
              "g.setNode(\"3\", { label: \"3\" , shape: \"circle\" });\n",
              "g.node(\"3\").style = \"fill: #8da0cb\"; \n",
              "g.setNode(\"5\", { label: \"5\" , shape: \"circle\" });\n",
              "g.node(\"5\").style = \"fill: #8da0cb\"; \n",
              "g.setNode(\"4\", { label: \"4 / 1.0\" , shape: \"circle\" });\n",
              "g.node(\"4\").style = \"fill: #fc8d62\"; \n",
              "g.setNode(\"6\", { label: \"6 / 1.0\" , shape: \"circle\" });\n",
              "g.node(\"6\").style = \"fill: #fc8d62\"; \n",
              "g.setEdge(\"0\", \"1\", { arrowhead: \"vee\", label: \"(d, data) / 0.5\" });\n",
              "g.setEdge(\"0\", \"5\", { arrowhead: \"vee\", label: \"(d, dew) / 0.5\" });\n",
              "g.setEdge(\"1\", \"2\", { arrowhead: \"vee\", label: \"(ey, \\u00c3\\u017d\\u00c2\\u00b5) / 0.5\\n(ae, \\u00c3\\u017d\\u00c2\\u00b5) / 0.5\" });\n",
              "g.setEdge(\"2\", \"3\", { arrowhead: \"vee\", label: \"(t, \\u00c3\\u017d\\u00c2\\u00b5) / 0.7\\n(dx, \\u00c3\\u017d\\u00c2\\u00b5) / 0.3\" });\n",
              "g.setEdge(\"3\", \"4\", { arrowhead: \"vee\", label: \"(ax, \\u00c3\\u017d\\u00c2\\u00b5) / 1.0\" });\n",
              "g.setEdge(\"5\", \"6\", { arrowhead: \"vee\", label: \"(uw, \\u00c3\\u017d\\u00c2\\u00b5) / 1.0\" });\n",
              "var svg = d3.select(\"#fst_f51013671d4b400d97d5b310d2af8308\"); \n",
              "\n",
              "\t\tvar inner = svg.select(\"g\");\n",
              "\n",
              "\t\t// Set up zoom support\n",
              "\t\tvar zoom = d3.zoom().scaleExtent([0.3, 5]).on(\"zoom\", function() {\n",
              "\t\tinner.attr(\"transform\", d3.event.transform);\n",
              "\t\t});\n",
              "\t\tsvg.call(zoom);\n",
              "\n",
              "\t\t// Create the renderer\n",
              "\t\tvar render = new dagreD3.render();\n",
              "\n",
              "\t\t// Run the renderer. This is what draws the final graph.\n",
              "\t\trender(inner, g);\n",
              "\n",
              "\t\t// Center the graph\n",
              "\t\tvar initialScale = 0.75;\n",
              "\t\tsvg.call(zoom.transform, d3.zoomIdentity.translate(\n",
              "\t\t    (svg.attr(\"width\") - g.graph().width * initialScale) / 2, 20).scale(initialScale));\n",
              "\n",
              "\t\tsvg.attr('height', g.graph().height * initialScale + 50);\n",
              "\t\t})();\n",
              "\n",
              "\t\t</script>\n",
              "\t\t"
            ],
            "text/plain": [
              "WFSA(7 states, <class 'rayuela.base.semiring.Real'>)"
            ]
          },
          "execution_count": 6,
          "metadata": {},
          "output_type": "execute_result"
        }
      ],
      "source": [
        "# A simple WFSA for transliteration\n",
        "\n",
        "sem = Real # semiring\n",
        "fst = FST(sem) # initialize WFST in the chosen semiring\n",
        "one, zero = sem.one, sem.zero # semiring one and zero\n",
        "\n",
        "# add transitions\n",
        "fst.add_arc(State(0), Sym('d'), Sym('data'), State(1), Real(0.5))\n",
        "fst.add_arc(State(0), Sym('d'), Sym('dew'), State(5), Real(0.5))\n",
        "\n",
        "fst.add_arc(State(1), Sym('ey'), Sym('ÃŽÂµ'), State(2), Real(0.5))\n",
        "fst.add_arc(State(1), Sym('ae'), Sym('ÃŽÂµ'), State(2), Real(0.5))\n",
        "\n",
        "fst.add_arc(State(2), Sym('t'), Sym('ÃŽÂµ'), State(3), Real(0.7))\n",
        "fst.add_arc(State(2), Sym('dx'), Sym('ÃŽÂµ'), State(3), Real(0.3))\n",
        "\n",
        "fst.add_arc(State(3), Sym('ax'), Sym('ÃŽÂµ'), State(4), one)\n",
        "\n",
        "fst.add_arc(State(5), Sym('uw'), Sym('ÃŽÂµ'), State(6), one)\n",
        "\n",
        "# initial and final weights\n",
        "fst.set_I(State(0), one)\n",
        "fst.set_F(State(4), one)\n",
        "fst.set_F(State(6), one)\n",
        "\n",
        "fst"
      ]
    },
    {
      "cell_type": "markdown",
      "metadata": {
        "id": "9pioLluSYjJK"
      },
      "source": [
        "### Subquestion b) - String Transducer"
      ]
    },
    {
      "cell_type": "code",
      "execution_count": 7,
      "metadata": {
        "id": "bncEcn9mbiS9"
      },
      "outputs": [],
      "source": [
        "def string_fst(s, semiring=Log):\n",
        "    \"\"\" Takes a string as input and a semiring\n",
        "    and returns a transducer encoding of the\n",
        "    string\n",
        "    \"\"\"\n",
        "    one, zero = semiring.one, semiring.zero # semiring one and zero\n",
        "    fst = FST(semiring)\n",
        "    \n",
        "    for i, char in enumerate(s):\n",
        "        fst.add_arc(State(i), Sym(char), Sym(char), State(i+1), one)\n",
        "\n",
        "    # initial and final weights\n",
        "    fst.set_I(State(0), one)\n",
        "    fst.set_F(State(len(s)), one)\n",
        "    \n",
        "    return fst"
      ]
    },
    {
      "cell_type": "code",
      "execution_count": 8,
      "metadata": {
        "id": "xogIlSbTeuoU"
      },
      "outputs": [
        {
          "data": {
            "text/html": [
              "\n",
              "\t\t<script>\n",
              "\t\ttry {\n",
              "\t\trequire.config({\n",
              "\t\tpaths: {\n",
              "\t\t\"d3\": \"https://cdnjs.cloudflare.com/ajax/libs/d3/4.13.0/d3\",\n",
              "\t\t\"dagreD3\": \"https://cdnjs.cloudflare.com/ajax/libs/dagre-d3/0.6.1/dagre-d3.min\"\n",
              "\t\t}\n",
              "\t\t});\n",
              "\t\t} catch {\n",
              "\t\t  [\"https://cdnjs.cloudflare.com/ajax/libs/d3/4.13.0/d3.js\",\n",
              "\t\t   \"https://cdnjs.cloudflare.com/ajax/libs/dagre-d3/0.6.1/dagre-d3.min.js\"].forEach(function (src) {\n",
              "\t\t\tvar tag = document.createElement('script');\n",
              "\t\t\ttag.src = src;\n",
              "\t\t\tdocument.body.appendChild(tag);\n",
              "\t\t  })\n",
              "\t\t}\n",
              "\t\ttry {\n",
              "\t\trequirejs(['d3', 'dagreD3'], function() {});\n",
              "\t\t} catch (e) {}\n",
              "\t\ttry {\n",
              "\t\trequire(['d3', 'dagreD3'], function() {});\n",
              "\t\t} catch (e) {}\n",
              "\t\t</script>\n",
              "\t\t<style>\n",
              "\t\t.node rect,\n",
              "\t\t.node circle,\n",
              "\t\t.node ellipse {\n",
              "\t\tstroke: #333;\n",
              "\t\tfill: #fff;\n",
              "\t\tstroke-width: 1px;\n",
              "\t\t}\n",
              "\n",
              "\t\t.edgePath path {\n",
              "\t\tstroke: #333;\n",
              "\t\tfill: #333;\n",
              "\t\tstroke-width: 1.5px;\n",
              "\t\t}\n",
              "\t\t</style>\n",
              "\t\t<center><svg width=\"850\" height=\"600\" id=\"fst_1267a4e7afe846d382bdf7dc35ca268f\"><g/></svg></center>\n",
              "\t\t<script>\n",
              "\t\t(function render_d3() {\n",
              "\t\tvar d3, dagreD3;\n",
              "\t\ttry { // requirejs is broken on external domains\n",
              "\t\t  d3 = require('d3');\n",
              "\t\t  dagreD3 = require('dagreD3');\n",
              "\t\t} catch (e) {\n",
              "\t\t  // for google colab\n",
              "\t\t  if(typeof window.d3 !== \"undefined\" && typeof window.dagreD3 !== \"undefined\") {\n",
              "\t\t\td3 = window.d3;\n",
              "\t\t\tdagreD3 = window.dagreD3;\n",
              "\t\t  } else { // not loaded yet, so wait and try again\n",
              "\t\t\tsetTimeout(render_d3, 50);\n",
              "\t\t\treturn;\n",
              "\t\t  }\n",
              "\t\t}\n",
              "\t\t//alert(\"loaded\");\n",
              "\t\tvar g = new dagreD3.graphlib.Graph().setGraph({ 'rankdir': 'LR' });\n",
              "\t\tg.setNode(\"0\", { label: \"0 / 1.0\" , shape: \"circle\" });\n",
              "g.node(\"0\").style = \"fill: #66c2a5\"; \n",
              "g.setNode(\"1\", { label: \"1\" , shape: \"circle\" });\n",
              "g.node(\"1\").style = \"fill: #8da0cb\"; \n",
              "g.setNode(\"2\", { label: \"2\" , shape: \"circle\" });\n",
              "g.node(\"2\").style = \"fill: #8da0cb\"; \n",
              "g.setNode(\"3\", { label: \"3 / 1.0\" , shape: \"circle\" });\n",
              "g.node(\"3\").style = \"fill: #fc8d62\"; \n",
              "g.setEdge(\"0\", \"1\", { arrowhead: \"vee\", label: \"(a, a) / 1.0\" });\n",
              "g.setEdge(\"1\", \"2\", { arrowhead: \"vee\", label: \"(b, b) / 1.0\" });\n",
              "g.setEdge(\"2\", \"3\", { arrowhead: \"vee\", label: \"(c, c) / 1.0\" });\n",
              "var svg = d3.select(\"#fst_1267a4e7afe846d382bdf7dc35ca268f\"); \n",
              "\n",
              "\t\tvar inner = svg.select(\"g\");\n",
              "\n",
              "\t\t// Set up zoom support\n",
              "\t\tvar zoom = d3.zoom().scaleExtent([0.3, 5]).on(\"zoom\", function() {\n",
              "\t\tinner.attr(\"transform\", d3.event.transform);\n",
              "\t\t});\n",
              "\t\tsvg.call(zoom);\n",
              "\n",
              "\t\t// Create the renderer\n",
              "\t\tvar render = new dagreD3.render();\n",
              "\n",
              "\t\t// Run the renderer. This is what draws the final graph.\n",
              "\t\trender(inner, g);\n",
              "\n",
              "\t\t// Center the graph\n",
              "\t\tvar initialScale = 0.75;\n",
              "\t\tsvg.call(zoom.transform, d3.zoomIdentity.translate(\n",
              "\t\t    (svg.attr(\"width\") - g.graph().width * initialScale) / 2, 20).scale(initialScale));\n",
              "\n",
              "\t\tsvg.attr('height', g.graph().height * initialScale + 50);\n",
              "\t\t})();\n",
              "\n",
              "\t\t</script>\n",
              "\t\t"
            ],
            "text/plain": [
              "WFSA(4 states, <class 'rayuela.base.semiring.Real'>)"
            ]
          },
          "execution_count": 8,
          "metadata": {},
          "output_type": "execute_result"
        }
      ],
      "source": [
        "# you can visualise the transducer\n",
        "fst = string_fst(\"abc\", semiring=Real)\n",
        "fst"
      ]
    },
    {
      "cell_type": "markdown",
      "metadata": {
        "id": "We9mAj-SYrz3"
      },
      "source": [
        "### Subquestion c) - Edit Distance Transducer"
      ]
    },
    {
      "cell_type": "markdown",
      "metadata": {
        "id": "23AP7EiJrJ2B"
      },
      "source": [
        "As we will not learn the weights on the arcs, you can set them to some pre-defined constants. You should choose the weights such that the pathsum that needs to be computed in e) does not diverge (this is caused by the weights of the self-loops in the transducer). "
      ]
    },
    {
      "cell_type": "code",
      "execution_count": 9,
      "metadata": {
        "id": "TG1G9JdUfEK_"
      },
      "outputs": [],
      "source": [
        "def edit_distance_fst(source_alphabet, target_alphabet, semiring=Log):\n",
        "    \"\"\" Takes as input two sets of characters (source and target \n",
        "    alphabets) and a semiring and returns an edit-distance transducer\n",
        "    \"\"\"\n",
        "    \n",
        "    one, zero = semiring.one, semiring.zero # semiring one and zero\n",
        "    fst = FST(semiring)\n",
        "    weight_delete = one\n",
        "    weight_insert = one\n",
        "    weight_sub = one\n",
        "    eps = ε\n",
        "\n",
        "    base = \"BOS\"\n",
        "    fst.set_F(State(base), zero)\n",
        "    \n",
        "    # deletion\n",
        "    for s in source_alphabet:\n",
        "        fst.add_arc(State(base), Sym(s), Sym(eps), State(base), weight_delete)\n",
        "    # insertion\n",
        "    for t in target_alphabet:\n",
        "        fst.add_arc(State(base), Sym(eps), Sym(t), State(t), weight_insert)\n",
        "        \n",
        "    for s in source_alphabet:\n",
        "        for t in target_alphabet:\n",
        "            fst.add_arc(State(base), Sym(s), Sym(t), State(t), weight_sub)\n",
        "\n",
        "    # TODO: add arcs, initial and final weights\n",
        "    for base in target_alphabet:\n",
        "        \n",
        "        fst.set_F(State(base), zero)\n",
        "        \n",
        "        # deletion\n",
        "        for s in source_alphabet:\n",
        "            fst.add_arc(State(base), Sym(s), Sym(eps), State(base), weight_delete)\n",
        "        # insertion\n",
        "        for t in target_alphabet:\n",
        "            fst.add_arc(State(base), Sym(eps), Sym(t), State(t), weight_insert)\n",
        "            \n",
        "        for s in source_alphabet:\n",
        "            for t in target_alphabet:\n",
        "                fst.add_arc(State(base), Sym(s), Sym(t), State(t), weight_sub)\n",
        "    \n",
        "    # initial and final weights\n",
        "    fst.set_I(State(\"BOS\"), one)\n",
        "\n",
        "    return fst"
      ]
    },
    {
      "cell_type": "code",
      "execution_count": 10,
      "metadata": {
        "id": "eB2rZ_7xhB8o"
      },
      "outputs": [
        {
          "data": {
            "text/html": [
              "\n",
              "\t\t<script>\n",
              "\t\ttry {\n",
              "\t\trequire.config({\n",
              "\t\tpaths: {\n",
              "\t\t\"d3\": \"https://cdnjs.cloudflare.com/ajax/libs/d3/4.13.0/d3\",\n",
              "\t\t\"dagreD3\": \"https://cdnjs.cloudflare.com/ajax/libs/dagre-d3/0.6.1/dagre-d3.min\"\n",
              "\t\t}\n",
              "\t\t});\n",
              "\t\t} catch {\n",
              "\t\t  [\"https://cdnjs.cloudflare.com/ajax/libs/d3/4.13.0/d3.js\",\n",
              "\t\t   \"https://cdnjs.cloudflare.com/ajax/libs/dagre-d3/0.6.1/dagre-d3.min.js\"].forEach(function (src) {\n",
              "\t\t\tvar tag = document.createElement('script');\n",
              "\t\t\ttag.src = src;\n",
              "\t\t\tdocument.body.appendChild(tag);\n",
              "\t\t  })\n",
              "\t\t}\n",
              "\t\ttry {\n",
              "\t\trequirejs(['d3', 'dagreD3'], function() {});\n",
              "\t\t} catch (e) {}\n",
              "\t\ttry {\n",
              "\t\trequire(['d3', 'dagreD3'], function() {});\n",
              "\t\t} catch (e) {}\n",
              "\t\t</script>\n",
              "\t\t<style>\n",
              "\t\t.node rect,\n",
              "\t\t.node circle,\n",
              "\t\t.node ellipse {\n",
              "\t\tstroke: #333;\n",
              "\t\tfill: #fff;\n",
              "\t\tstroke-width: 1px;\n",
              "\t\t}\n",
              "\n",
              "\t\t.edgePath path {\n",
              "\t\tstroke: #333;\n",
              "\t\tfill: #333;\n",
              "\t\tstroke-width: 1.5px;\n",
              "\t\t}\n",
              "\t\t</style>\n",
              "\t\t<center><svg width=\"850\" height=\"600\" id=\"fst_a8ff3185151945b4bebfadb1da3d8cfd\"><g/></svg></center>\n",
              "\t\t<script>\n",
              "\t\t(function render_d3() {\n",
              "\t\tvar d3, dagreD3;\n",
              "\t\ttry { // requirejs is broken on external domains\n",
              "\t\t  d3 = require('d3');\n",
              "\t\t  dagreD3 = require('dagreD3');\n",
              "\t\t} catch (e) {\n",
              "\t\t  // for google colab\n",
              "\t\t  if(typeof window.d3 !== \"undefined\" && typeof window.dagreD3 !== \"undefined\") {\n",
              "\t\t\td3 = window.d3;\n",
              "\t\t\tdagreD3 = window.dagreD3;\n",
              "\t\t  } else { // not loaded yet, so wait and try again\n",
              "\t\t\tsetTimeout(render_d3, 50);\n",
              "\t\t\treturn;\n",
              "\t\t  }\n",
              "\t\t}\n",
              "\t\t//alert(\"loaded\");\n",
              "\t\tvar g = new dagreD3.graphlib.Graph().setGraph({ 'rankdir': 'LR' });\n",
              "\t\tg.setNode(\"BOS\", { label: \"BOS / 1.0\" , shape: \"circle\" });\n",
              "g.node(\"BOS\").style = \"fill: #66c2a5\"; \n",
              "g.setNode(\"d\", { label: \"d\" , shape: \"circle\" });\n",
              "g.node(\"d\").style = \"fill: #8da0cb\"; \n",
              "g.setNode(\"e\", { label: \"e\" , shape: \"circle\" });\n",
              "g.node(\"e\").style = \"fill: #8da0cb\"; \n",
              "g.setEdge(\"d\", \"d\", { arrowhead: \"vee\", label: \"(a, \\u03b5) / 1.0\\n(b, \\u03b5) / 1.0\\n(c, \\u03b5) / 1.0\\n. . .\" });\n",
              "g.setEdge(\"d\", \"e\", { arrowhead: \"vee\", label: \"(\\u03b5, e) / 1.0\\n(a, e) / 1.0\\n(b, e) / 1.0\\n(c, e) / 1.0\" });\n",
              "g.setEdge(\"BOS\", \"BOS\", { arrowhead: \"vee\", label: \"(a, \\u03b5) / 1.0\\n(b, \\u03b5) / 1.0\\n(c, \\u03b5) / 1.0\" });\n",
              "g.setEdge(\"BOS\", \"d\", { arrowhead: \"vee\", label: \"(\\u03b5, d) / 1.0\\n(a, d) / 1.0\\n(b, d) / 1.0\\n(c, d) / 1.0\" });\n",
              "g.setEdge(\"BOS\", \"e\", { arrowhead: \"vee\", label: \"(\\u03b5, e) / 1.0\\n(a, e) / 1.0\\n(b, e) / 1.0\\n(c, e) / 1.0\" });\n",
              "g.setEdge(\"e\", \"e\", { arrowhead: \"vee\", label: \"(a, \\u03b5) / 1.0\\n(b, \\u03b5) / 1.0\\n(c, \\u03b5) / 1.0\\n. . .\" });\n",
              "g.setEdge(\"e\", \"d\", { arrowhead: \"vee\", label: \"(\\u03b5, d) / 1.0\\n(a, d) / 1.0\\n(b, d) / 1.0\\n(c, d) / 1.0\" });\n",
              "var svg = d3.select(\"#fst_a8ff3185151945b4bebfadb1da3d8cfd\"); \n",
              "\n",
              "\t\tvar inner = svg.select(\"g\");\n",
              "\n",
              "\t\t// Set up zoom support\n",
              "\t\tvar zoom = d3.zoom().scaleExtent([0.3, 5]).on(\"zoom\", function() {\n",
              "\t\tinner.attr(\"transform\", d3.event.transform);\n",
              "\t\t});\n",
              "\t\tsvg.call(zoom);\n",
              "\n",
              "\t\t// Create the renderer\n",
              "\t\tvar render = new dagreD3.render();\n",
              "\n",
              "\t\t// Run the renderer. This is what draws the final graph.\n",
              "\t\trender(inner, g);\n",
              "\n",
              "\t\t// Center the graph\n",
              "\t\tvar initialScale = 0.75;\n",
              "\t\tsvg.call(zoom.transform, d3.zoomIdentity.translate(\n",
              "\t\t    (svg.attr(\"width\") - g.graph().width * initialScale) / 2, 20).scale(initialScale));\n",
              "\n",
              "\t\tsvg.attr('height', g.graph().height * initialScale + 50);\n",
              "\t\t})();\n",
              "\n",
              "\t\t</script>\n",
              "\t\t"
            ],
            "text/plain": [
              "WFSA(3 states, <class 'rayuela.base.semiring.Real'>)"
            ]
          },
          "execution_count": 10,
          "metadata": {},
          "output_type": "execute_result"
        }
      ],
      "source": [
        "fst = edit_distance_fst({'a', 'b', 'c'}, {'d', 'e'}, semiring=Real)\n",
        "fst"
      ]
    },
    {
      "cell_type": "markdown",
      "metadata": {
        "id": "RCTCHqJLYwyh"
      },
      "source": [
        "### Subquestion d) - Composition"
      ]
    },
    {
      "cell_type": "markdown",
      "metadata": {
        "id": "lzi_UzOx2yLt"
      },
      "source": [
        "We provide some composition test cases for you to inspect."
      ]
    },
    {
      "cell_type": "code",
      "execution_count": 11,
      "metadata": {
        "id": "INUf9u0626E7"
      },
      "outputs": [],
      "source": [
        "with open('test_cases.pkl', 'rb') as in_file:\n",
        "    examples = dill.load(in_file)"
      ]
    },
    {
      "cell_type": "code",
      "execution_count": 12,
      "metadata": {
        "id": "tdDfLbCT3GSL"
      },
      "outputs": [
        {
          "data": {
            "text/html": [
              "\n",
              "\t\t<script>\n",
              "\t\ttry {\n",
              "\t\trequire.config({\n",
              "\t\tpaths: {\n",
              "\t\t\"d3\": \"https://cdnjs.cloudflare.com/ajax/libs/d3/4.13.0/d3\",\n",
              "\t\t\"dagreD3\": \"https://cdnjs.cloudflare.com/ajax/libs/dagre-d3/0.6.1/dagre-d3.min\"\n",
              "\t\t}\n",
              "\t\t});\n",
              "\t\t} catch {\n",
              "\t\t  [\"https://cdnjs.cloudflare.com/ajax/libs/d3/4.13.0/d3.js\",\n",
              "\t\t   \"https://cdnjs.cloudflare.com/ajax/libs/dagre-d3/0.6.1/dagre-d3.min.js\"].forEach(function (src) {\n",
              "\t\t\tvar tag = document.createElement('script');\n",
              "\t\t\ttag.src = src;\n",
              "\t\t\tdocument.body.appendChild(tag);\n",
              "\t\t  })\n",
              "\t\t}\n",
              "\t\ttry {\n",
              "\t\trequirejs(['d3', 'dagreD3'], function() {});\n",
              "\t\t} catch (e) {}\n",
              "\t\ttry {\n",
              "\t\trequire(['d3', 'dagreD3'], function() {});\n",
              "\t\t} catch (e) {}\n",
              "\t\t</script>\n",
              "\t\t<style>\n",
              "\t\t.node rect,\n",
              "\t\t.node circle,\n",
              "\t\t.node ellipse {\n",
              "\t\tstroke: #333;\n",
              "\t\tfill: #fff;\n",
              "\t\tstroke-width: 1px;\n",
              "\t\t}\n",
              "\n",
              "\t\t.edgePath path {\n",
              "\t\tstroke: #333;\n",
              "\t\tfill: #333;\n",
              "\t\tstroke-width: 1.5px;\n",
              "\t\t}\n",
              "\t\t</style>\n",
              "\t\t<center><svg width=\"850\" height=\"600\" id=\"fst_ff48b61d4c3c47e886ee6baa09470701\"><g/></svg></center>\n",
              "\t\t<script>\n",
              "\t\t(function render_d3() {\n",
              "\t\tvar d3, dagreD3;\n",
              "\t\ttry { // requirejs is broken on external domains\n",
              "\t\t  d3 = require('d3');\n",
              "\t\t  dagreD3 = require('dagreD3');\n",
              "\t\t} catch (e) {\n",
              "\t\t  // for google colab\n",
              "\t\t  if(typeof window.d3 !== \"undefined\" && typeof window.dagreD3 !== \"undefined\") {\n",
              "\t\t\td3 = window.d3;\n",
              "\t\t\tdagreD3 = window.dagreD3;\n",
              "\t\t  } else { // not loaded yet, so wait and try again\n",
              "\t\t\tsetTimeout(render_d3, 50);\n",
              "\t\t\treturn;\n",
              "\t\t  }\n",
              "\t\t}\n",
              "\t\t//alert(\"loaded\");\n",
              "\t\tvar g = new dagreD3.graphlib.Graph().setGraph({ 'rankdir': 'LR' });\n",
              "\t\tg.setNode(\"0\", { label: \"0 / 0.049\" , shape: \"circle\" });\n",
              "g.node(\"0\").style = \"fill: #66c2a5\"; \n",
              "g.setNode(\"1\", { label: \"1 / 0.113\" , shape: \"circle\" });\n",
              "g.node(\"1\").style = \"fill: #fc8d62\"; \n",
              "g.setEdge(\"0\", \"1\", { arrowhead: \"vee\", label: \"(a, b) / 0.054\\n(\\u03b5, a) / 0.164\" });\n",
              "g.setEdge(\"1\", \"1\", { arrowhead: \"vee\", label: \"(b, \\u03b5) / 0.092\\n(a, a) / 0.036\" });\n",
              "var svg = d3.select(\"#fst_ff48b61d4c3c47e886ee6baa09470701\"); \n",
              "\n",
              "\t\tvar inner = svg.select(\"g\");\n",
              "\n",
              "\t\t// Set up zoom support\n",
              "\t\tvar zoom = d3.zoom().scaleExtent([0.3, 5]).on(\"zoom\", function() {\n",
              "\t\tinner.attr(\"transform\", d3.event.transform);\n",
              "\t\t});\n",
              "\t\tsvg.call(zoom);\n",
              "\n",
              "\t\t// Create the renderer\n",
              "\t\tvar render = new dagreD3.render();\n",
              "\n",
              "\t\t// Run the renderer. This is what draws the final graph.\n",
              "\t\trender(inner, g);\n",
              "\n",
              "\t\t// Center the graph\n",
              "\t\tvar initialScale = 0.75;\n",
              "\t\tsvg.call(zoom.transform, d3.zoomIdentity.translate(\n",
              "\t\t    (svg.attr(\"width\") - g.graph().width * initialScale) / 2, 20).scale(initialScale));\n",
              "\n",
              "\t\tsvg.attr('height', g.graph().height * initialScale + 50);\n",
              "\t\t})();\n",
              "\n",
              "\t\t</script>\n",
              "\t\t"
            ],
            "text/plain": [
              "WFSA(2 states, <class 'rayuela.base.semiring.Real'>)"
            ]
          },
          "execution_count": 12,
          "metadata": {},
          "output_type": "execute_result"
        }
      ],
      "source": [
        "# FST 1\n",
        "examples[0]['fst1']['fst']"
      ]
    },
    {
      "cell_type": "code",
      "execution_count": 13,
      "metadata": {
        "id": "08ShFifD3Lhm"
      },
      "outputs": [
        {
          "data": {
            "text/html": [
              "\n",
              "\t\t<script>\n",
              "\t\ttry {\n",
              "\t\trequire.config({\n",
              "\t\tpaths: {\n",
              "\t\t\"d3\": \"https://cdnjs.cloudflare.com/ajax/libs/d3/4.13.0/d3\",\n",
              "\t\t\"dagreD3\": \"https://cdnjs.cloudflare.com/ajax/libs/dagre-d3/0.6.1/dagre-d3.min\"\n",
              "\t\t}\n",
              "\t\t});\n",
              "\t\t} catch {\n",
              "\t\t  [\"https://cdnjs.cloudflare.com/ajax/libs/d3/4.13.0/d3.js\",\n",
              "\t\t   \"https://cdnjs.cloudflare.com/ajax/libs/dagre-d3/0.6.1/dagre-d3.min.js\"].forEach(function (src) {\n",
              "\t\t\tvar tag = document.createElement('script');\n",
              "\t\t\ttag.src = src;\n",
              "\t\t\tdocument.body.appendChild(tag);\n",
              "\t\t  })\n",
              "\t\t}\n",
              "\t\ttry {\n",
              "\t\trequirejs(['d3', 'dagreD3'], function() {});\n",
              "\t\t} catch (e) {}\n",
              "\t\ttry {\n",
              "\t\trequire(['d3', 'dagreD3'], function() {});\n",
              "\t\t} catch (e) {}\n",
              "\t\t</script>\n",
              "\t\t<style>\n",
              "\t\t.node rect,\n",
              "\t\t.node circle,\n",
              "\t\t.node ellipse {\n",
              "\t\tstroke: #333;\n",
              "\t\tfill: #fff;\n",
              "\t\tstroke-width: 1px;\n",
              "\t\t}\n",
              "\n",
              "\t\t.edgePath path {\n",
              "\t\tstroke: #333;\n",
              "\t\tfill: #333;\n",
              "\t\tstroke-width: 1.5px;\n",
              "\t\t}\n",
              "\t\t</style>\n",
              "\t\t<center><svg width=\"850\" height=\"600\" id=\"fst_af9f1398b1754aa3a4e6f72f6a00559c\"><g/></svg></center>\n",
              "\t\t<script>\n",
              "\t\t(function render_d3() {\n",
              "\t\tvar d3, dagreD3;\n",
              "\t\ttry { // requirejs is broken on external domains\n",
              "\t\t  d3 = require('d3');\n",
              "\t\t  dagreD3 = require('dagreD3');\n",
              "\t\t} catch (e) {\n",
              "\t\t  // for google colab\n",
              "\t\t  if(typeof window.d3 !== \"undefined\" && typeof window.dagreD3 !== \"undefined\") {\n",
              "\t\t\td3 = window.d3;\n",
              "\t\t\tdagreD3 = window.dagreD3;\n",
              "\t\t  } else { // not loaded yet, so wait and try again\n",
              "\t\t\tsetTimeout(render_d3, 50);\n",
              "\t\t\treturn;\n",
              "\t\t  }\n",
              "\t\t}\n",
              "\t\t//alert(\"loaded\");\n",
              "\t\tvar g = new dagreD3.graphlib.Graph().setGraph({ 'rankdir': 'LR' });\n",
              "\t\tg.setNode(\"0\", { label: \"0 / 0.086\" , shape: \"circle\" });\n",
              "g.node(\"0\").style = \"fill: #66c2a5\"; \n",
              "g.setNode(\"1\", { label: \"1 / 0.077\" , shape: \"circle\" });\n",
              "g.node(\"1\").style = \"fill: #fc8d62\"; \n",
              "g.setEdge(\"0\", \"1\", { arrowhead: \"vee\", label: \"(b, a) / 0.032\\n(a, \\u03b5) / 0.096\" });\n",
              "g.setEdge(\"1\", \"1\", { arrowhead: \"vee\", label: \"(b, a) / 0.091\\n(a, a) / 0.059\" });\n",
              "var svg = d3.select(\"#fst_af9f1398b1754aa3a4e6f72f6a00559c\"); \n",
              "\n",
              "\t\tvar inner = svg.select(\"g\");\n",
              "\n",
              "\t\t// Set up zoom support\n",
              "\t\tvar zoom = d3.zoom().scaleExtent([0.3, 5]).on(\"zoom\", function() {\n",
              "\t\tinner.attr(\"transform\", d3.event.transform);\n",
              "\t\t});\n",
              "\t\tsvg.call(zoom);\n",
              "\n",
              "\t\t// Create the renderer\n",
              "\t\tvar render = new dagreD3.render();\n",
              "\n",
              "\t\t// Run the renderer. This is what draws the final graph.\n",
              "\t\trender(inner, g);\n",
              "\n",
              "\t\t// Center the graph\n",
              "\t\tvar initialScale = 0.75;\n",
              "\t\tsvg.call(zoom.transform, d3.zoomIdentity.translate(\n",
              "\t\t    (svg.attr(\"width\") - g.graph().width * initialScale) / 2, 20).scale(initialScale));\n",
              "\n",
              "\t\tsvg.attr('height', g.graph().height * initialScale + 50);\n",
              "\t\t})();\n",
              "\n",
              "\t\t</script>\n",
              "\t\t"
            ],
            "text/plain": [
              "WFSA(2 states, <class 'rayuela.base.semiring.Real'>)"
            ]
          },
          "execution_count": 13,
          "metadata": {},
          "output_type": "execute_result"
        }
      ],
      "source": [
        "# FST 2\n",
        "examples[0]['fst2']['fst']"
      ]
    },
    {
      "cell_type": "code",
      "execution_count": 14,
      "metadata": {
        "id": "0Ma7QG983NBc"
      },
      "outputs": [
        {
          "data": {
            "text/html": [
              "\n",
              "\t\t<script>\n",
              "\t\ttry {\n",
              "\t\trequire.config({\n",
              "\t\tpaths: {\n",
              "\t\t\"d3\": \"https://cdnjs.cloudflare.com/ajax/libs/d3/4.13.0/d3\",\n",
              "\t\t\"dagreD3\": \"https://cdnjs.cloudflare.com/ajax/libs/dagre-d3/0.6.1/dagre-d3.min\"\n",
              "\t\t}\n",
              "\t\t});\n",
              "\t\t} catch {\n",
              "\t\t  [\"https://cdnjs.cloudflare.com/ajax/libs/d3/4.13.0/d3.js\",\n",
              "\t\t   \"https://cdnjs.cloudflare.com/ajax/libs/dagre-d3/0.6.1/dagre-d3.min.js\"].forEach(function (src) {\n",
              "\t\t\tvar tag = document.createElement('script');\n",
              "\t\t\ttag.src = src;\n",
              "\t\t\tdocument.body.appendChild(tag);\n",
              "\t\t  })\n",
              "\t\t}\n",
              "\t\ttry {\n",
              "\t\trequirejs(['d3', 'dagreD3'], function() {});\n",
              "\t\t} catch (e) {}\n",
              "\t\ttry {\n",
              "\t\trequire(['d3', 'dagreD3'], function() {});\n",
              "\t\t} catch (e) {}\n",
              "\t\t</script>\n",
              "\t\t<style>\n",
              "\t\t.node rect,\n",
              "\t\t.node circle,\n",
              "\t\t.node ellipse {\n",
              "\t\tstroke: #333;\n",
              "\t\tfill: #fff;\n",
              "\t\tstroke-width: 1px;\n",
              "\t\t}\n",
              "\n",
              "\t\t.edgePath path {\n",
              "\t\tstroke: #333;\n",
              "\t\tfill: #333;\n",
              "\t\tstroke-width: 1.5px;\n",
              "\t\t}\n",
              "\t\t</style>\n",
              "\t\t<center><svg width=\"850\" height=\"600\" id=\"fst_691ecafcaebd4b0cba319ac322f73e4d\"><g/></svg></center>\n",
              "\t\t<script>\n",
              "\t\t(function render_d3() {\n",
              "\t\tvar d3, dagreD3;\n",
              "\t\ttry { // requirejs is broken on external domains\n",
              "\t\t  d3 = require('d3');\n",
              "\t\t  dagreD3 = require('dagreD3');\n",
              "\t\t} catch (e) {\n",
              "\t\t  // for google colab\n",
              "\t\t  if(typeof window.d3 !== \"undefined\" && typeof window.dagreD3 !== \"undefined\") {\n",
              "\t\t\td3 = window.d3;\n",
              "\t\t\tdagreD3 = window.dagreD3;\n",
              "\t\t  } else { // not loaded yet, so wait and try again\n",
              "\t\t\tsetTimeout(render_d3, 50);\n",
              "\t\t\treturn;\n",
              "\t\t  }\n",
              "\t\t}\n",
              "\t\t//alert(\"loaded\");\n",
              "\t\tvar g = new dagreD3.graphlib.Graph().setGraph({ 'rankdir': 'LR' });\n",
              "\t\tg.setNode(\"( 0, 0 )\", { label: \"( 0, 0 ) / 0.004214\" , shape: \"circle\" });\n",
              "g.node(\"( 0, 0 )\").style = \"fill: #66c2a5\"; \n",
              "g.setNode(\"( 1, 1 )\", { label: \"( 1, 1 ) / 0.008701\" , shape: \"circle\" });\n",
              "g.node(\"( 1, 1 )\").style = \"fill: #fc8d62\"; \n",
              "g.setEdge(\"( 1, 1 )\", \"( 1, 1 )\", { arrowhead: \"vee\", label: \"(b, \\u03b5) / 0.092\\n(a, a) / 0.002124\" });\n",
              "g.setEdge(\"( 0, 0 )\", \"( 1, 1 )\", { arrowhead: \"vee\", label: \"(a, a) / 0.001728\\n(\\u03b5, \\u03b5) / 0.015744\" });\n",
              "var svg = d3.select(\"#fst_691ecafcaebd4b0cba319ac322f73e4d\"); \n",
              "\n",
              "\t\tvar inner = svg.select(\"g\");\n",
              "\n",
              "\t\t// Set up zoom support\n",
              "\t\tvar zoom = d3.zoom().scaleExtent([0.3, 5]).on(\"zoom\", function() {\n",
              "\t\tinner.attr(\"transform\", d3.event.transform);\n",
              "\t\t});\n",
              "\t\tsvg.call(zoom);\n",
              "\n",
              "\t\t// Create the renderer\n",
              "\t\tvar render = new dagreD3.render();\n",
              "\n",
              "\t\t// Run the renderer. This is what draws the final graph.\n",
              "\t\trender(inner, g);\n",
              "\n",
              "\t\t// Center the graph\n",
              "\t\tvar initialScale = 0.75;\n",
              "\t\tsvg.call(zoom.transform, d3.zoomIdentity.translate(\n",
              "\t\t    (svg.attr(\"width\") - g.graph().width * initialScale) / 2, 20).scale(initialScale));\n",
              "\n",
              "\t\tsvg.attr('height', g.graph().height * initialScale + 50);\n",
              "\t\t})();\n",
              "\n",
              "\t\t</script>\n",
              "\t\t"
            ],
            "text/plain": [
              "WFSA(2 states, <class 'rayuela.base.semiring.Real'>)"
            ]
          },
          "execution_count": 14,
          "metadata": {},
          "output_type": "execute_result"
        }
      ],
      "source": [
        "# composition\n",
        "examples[0]['composition']['fst']"
      ]
    },
    {
      "cell_type": "code",
      "execution_count": 15,
      "metadata": {
        "id": "A20SmaPN3Ux3"
      },
      "outputs": [
        {
          "data": {
            "text/plain": [
              "rayuela.base.semiring.Real"
            ]
          },
          "execution_count": 15,
          "metadata": {},
          "output_type": "execute_result"
        }
      ],
      "source": [
        "# semiring\n",
        "examples[0]['semiring']"
      ]
    },
    {
      "cell_type": "code",
      "execution_count": 16,
      "metadata": {
        "id": "s7yC9G0dgKfm"
      },
      "outputs": [],
      "source": [
        "def compose(fst1, fst2):\n",
        "    \"\"\" Takes as input two transducers and returns\n",
        "    their composition\n",
        "    \"\"\"\n",
        "    # The machines must be in the same semiring\n",
        "    assert fst1.R == fst2.R\n",
        "\n",
        "    comp_fst = FST(R=fst1.R)\n",
        "    eps = ε\n",
        "    \n",
        "    # TODO: implement composition\n",
        "\n",
        "    for q1 in fst1.Q:\n",
        "        for q2 in fst2.Q:\n",
        "            for (i1, o1), q1p, w1 in fst1.arcs(q1):\n",
        "                if o1 == ε:\n",
        "                    comp_fst.add_arc(PairState(q1, q2), i1, o1, PairState(q1p, q2), w1)\n",
        "                for (i2, o2), q2p, w2 in fst2.arcs(q2):\n",
        "                    if i2 == ε:\n",
        "                        comp_fst.add_arc(PairState(q1, q2), i2, o2, PairState(q1, q2p), w2)\n",
        "                    if o1 == i2:\n",
        "                        comp_fst.add_arc(PairState(q1, q2), i1, o2, PairState(q1p, q2p), w1 * w2)\n",
        "    # print(comp_fst.Q)\n",
        "    for s in comp_fst.Q:\n",
        "        q1, q2 = s.state1, s.state2\n",
        "        # print(q1, q2)\n",
        "        if fst1.λ[q1] != fst1.R.zero:\n",
        "            comp_fst.set_I(PairState(q1, q2), fst1.λ[q1] * fst2.λ[q2])\n",
        "        if fst1.ρ[q1] != fst1.R.zero:\n",
        "            comp_fst.set_F(PairState(q1, q2), fst1.ρ[q1] * fst2.ρ[q2])\n",
        "    \n",
        "    return comp_fst"
      ]
    },
    {
      "cell_type": "markdown",
      "metadata": {
        "id": "_iBUgq4vY8Th"
      },
      "source": [
        "### Subquestion e) - Lehmann's Algorithm"
      ]
    },
    {
      "cell_type": "code",
      "execution_count": 17,
      "metadata": {
        "id": "JdoPOG8ug-z1"
      },
      "outputs": [],
      "source": [
        "class Pathsum:\n",
        "    def __init__(self, fsa):\n",
        "\n",
        "        # basic FSA stuff\n",
        "        self.fsa = fsa\n",
        "        self.R = fsa.R\n",
        "        self.N = self.fsa.num_states\n",
        "\n",
        "        # state dictionary\n",
        "        self.I = {}\n",
        "        for n, q in enumerate(self.fsa.Q):\n",
        "            self.I[q] = n\n",
        "\n",
        "        # lift into the semiring\n",
        "        self.W, self.W_dict, self.alpha, self.beta = self.lift()\n",
        "\n",
        "        \n",
        "    def lift(self):\n",
        "        \"\"\" creates the weight matrix, initial weight vector,\n",
        "        final weight vector from the automaton \"\"\"\n",
        "        W = self.R.zeros((self.N, self.N))\n",
        "        W_dict = {a: {} for a in self.fsa.Sigma}\n",
        "        alpha = self.R.zeros((self.N,))\n",
        "        beta = self.R.zeros((self.N,))\n",
        "        for a in self.fsa.Sigma:\n",
        "            for b in self.fsa.Delta:\n",
        "                W_dict[a][b] = self.R.zeros((self.N, self.N))\n",
        "        for p in self.fsa.Q:\n",
        "            alpha[self.I[p]] += self.fsa.λ[p]\n",
        "            beta[self.I[p]] += self.fsa.ρ[p]\n",
        "            for (a, b), q, w in self.fsa.arcs(p):\n",
        "                W[self.I[p], self.I[q]] += w\n",
        "                W_dict[a][b][self.I[p], self.I[q]] = w\n",
        "        return W, W_dict, alpha, beta\n",
        "    \n",
        "    def lehmann(self):\n",
        "        \"\"\"\n",
        "        Lehmann's (1977) algorithm.\n",
        "        \"\"\"\n",
        "        # TODO: implement\n",
        "        R = self.W\n",
        "        # print(len(self.W))\n",
        "        # print(len(self.fsa.Q))\n",
        "        # print(R[0])\n",
        "        for j in range(len(self.fsa.Q)):\n",
        "            tmp = R.copy()\n",
        "            # print(tmp)\n",
        "            for i in range(len(self.fsa.Q)):\n",
        "                for k in range(len(self.fsa.Q)):\n",
        "                    # print(f\"i: {i}, j: {j}, k: {k}\")\n",
        "                    # print(tmp[j])\n",
        "                    R[i][k] += tmp[i][j] * tmp[j][j].star() * tmp[j][k]\n",
        "                    \n",
        "        ps = dict()\n",
        "        for i, q1 in enumerate(self.fsa.Q):\n",
        "            for j, q2 in enumerate(self.fsa.Q):\n",
        "                if i == j:\n",
        "                    ps[(q1, q2)] = R[i][j] + self.R.one\n",
        "                else:\n",
        "                    ps[(q1, q2)] = R[i][j]\n",
        "        return frozendict(ps)\n",
        "\n",
        "    def _iterate(self, K):\n",
        "        P = self.R.diag(self.N)\n",
        "        for n in range(K):\n",
        "            P += self.W @ P\n",
        "        return P\n",
        "\n",
        "    def _fixpoint(self, K=200):\n",
        "        if self.fsa.R.idempotent:\n",
        "            return self._iterate(self.fsa.num_states)\n",
        "\n",
        "        diag = self.R.zeros((self.fsa.num_states, self.fsa.num_states))\n",
        "        for n in range(self.fsa.num_states):\n",
        "            diag[n, n] = self.fsa.R.one\n",
        "        P_old = diag\n",
        "\n",
        "        for _ in range(K):\n",
        "            P_new = diag + self.W @ P_old\n",
        "            P_old = P_new\n",
        "\n",
        "        return P_old\n",
        "\n",
        "    def fixpoint(self):\n",
        "\n",
        "        P = self._fixpoint()\n",
        "        W = {}\n",
        "\n",
        "        for p in self.fsa.Q:\n",
        "            for q in self.fsa.Q:\n",
        "                if p in self.I and q in self.I:\n",
        "                    W[p, q] = P[self.I[p], self.I[q]]\n",
        "                elif p == q:\n",
        "                    W[p, q] = self.R.one\n",
        "                else:\n",
        "                    W[p, q] = self.R.zero\n",
        "\n",
        "        return frozendict(W)"
      ]
    },
    {
      "cell_type": "code",
      "execution_count": 25,
      "metadata": {},
      "outputs": [
        {
          "name": "stdout",
          "output_type": "stream",
          "text": [
            "frozendict.frozendict({(0, 0): 1.0, (0, 1): 0.25, (1, 0): 0.0, (1, 1): 1.146788990825688})\n",
            "frozendict.frozendict({(0, 0): 1.0, (0, 1): 0.25, (1, 0): 0.0, (1, 1): 1.146788990825688})\n",
            "frozendict.frozendict({(0, 0): Tropical(0.0), (0, 1): Tropical(35), (1, 0): Tropical(25), (1, 1): Tropical(0.0)})\n",
            "frozendict.frozendict({(0, 0): Tropical(0), (0, 1): Tropical(35), (1, 0): Tropical(25), (1, 1): Tropical(0.0)})\n",
            "frozendict.frozendict({(0, 0): True, (0, 1): True, (0, 2): True, (1, 0): True, (1, 1): True, (1, 2): True, (2, 0): True, (2, 1): True, (2, 2): True})\n",
            "frozendict.frozendict({(0, 0): True, (0, 1): True, (0, 2): True, (1, 0): True, (1, 1): True, (1, 2): True, (2, 0): True, (2, 1): True, (2, 2): True})\n",
            "frozendict.frozendict({(0, 0): 1.204687055617909, (0, 1): 0.049703748026656, (0, 2): 0.238528037012346, (1, 0): 0.423848011191222, (1, 1): 1.064607810824038, (1, 2): 0.083921906215862, (2, 0): 0.297575363071423, (2, 1): 0.220654517754702, (2, 2): 1.058919921888142})\n",
            "frozendict.frozendict({(0, 0): 1.204687055617909, (0, 1): 0.049703748026656, (0, 2): 0.238528037012346, (1, 0): 0.423848011191222, (1, 1): 1.064607810824038, (1, 2): 0.083921906215862, (2, 0): 0.297575363071423, (2, 1): 0.220654517754702, (2, 2): 1.058919921888142})\n",
            "frozendict.frozendict({(0, 0): True, (0, 1): True, (1, 0): False, (1, 1): True})\n",
            "frozendict.frozendict({(0, 0): True, (0, 1): True, (1, 0): False, (1, 1): True})\n"
          ]
        }
      ],
      "source": [
        "for ex in examples:\n",
        "    pathsum = Pathsum(ex['fst1']['fst'])\n",
        "    print(pathsum.fixpoint())\n",
        "    print(pathsum.lehmann())"
      ]
    },
    {
      "cell_type": "markdown",
      "metadata": {
        "id": "j3yMKALJZE23"
      },
      "source": [
        "### Subquestion f) - Normalizer"
      ]
    },
    {
      "cell_type": "markdown",
      "metadata": {
        "id": "HWYq69zqZBym"
      },
      "source": [
        "We provide some test cases for you to inspect."
      ]
    },
    {
      "cell_type": "code",
      "execution_count": 21,
      "metadata": {
        "id": "2CfkrNj9ZCXj"
      },
      "outputs": [
        {
          "data": {
            "text/plain": [
              "(0.00138425, 0.000997195294118, 7.07192371e-07)"
            ]
          },
          "execution_count": 21,
          "metadata": {},
          "output_type": "execute_result"
        }
      ],
      "source": [
        "examples[0]['fst1']['Z'], examples[0]['fst2']['Z'], examples[0]['composition']['Z']"
      ]
    },
    {
      "cell_type": "code",
      "execution_count": 22,
      "metadata": {
        "id": "pEwB-REPhvQ_"
      },
      "outputs": [],
      "source": [
        "def normalizer(fst):\n",
        "    \"\"\" Takes as input a finite-state transducer and\n",
        "    returns its normalizer\n",
        "    \"\"\"\n",
        "    \n",
        "    pathsum = Pathsum(fst)\n",
        "    # TODO: implement normalizer\n",
        "    leh = pathsum.lehmann()\n",
        "    norm = fst.R.zero\n",
        "    for q1 in fst.Q:\n",
        "        for q2 in fst.Q:\n",
        "            norm += fst.λ[q1] * leh[(q1, q2)] * fst.ρ[q2]\n",
        "    return norm"
      ]
    },
    {
      "cell_type": "markdown",
      "metadata": {
        "id": "Cn7vgvpSZPwQ"
      },
      "source": [
        "### Subquestion g) - Log-likelihood"
      ]
    },
    {
      "cell_type": "code",
      "execution_count": 23,
      "metadata": {
        "id": "MLZJLsx3iYUq"
      },
      "outputs": [],
      "source": [
        "def log_likelihood(source_alphabet, target_alphabet, source_str, target_str):\n",
        "    \"\"\" Takes as input the source and target alphabets (sets of characters)\n",
        "    and a pair of source and target strings and returns the log-likelihood\n",
        "    \"\"\"\n",
        "\n",
        "    # TODO: implement log-likelihood\n",
        "    fst = edit_distance_fst(source_alphabet, target_alphabet)\n",
        "    fst\n",
        "    pathsum = Pathsum(fst)\n",
        "    leh = pathsum.lehmann()\n",
        "    logl = fst.R.zero\n",
        "    for q1 in fst.Q:\n",
        "        for q2 in fst.Q:\n",
        "            for q3 in fst.Q:\n",
        "                logl += fst.λ[q1] * leh[(q1, q2)] * fst.ρ[q3]\n",
        "                \n",
        "    print(normalizer(fst))\n",
        "    return logl"
      ]
    },
    {
      "cell_type": "code",
      "execution_count": 24,
      "metadata": {},
      "outputs": [
        {
          "ename": "AttributeError",
          "evalue": "'int' object has no attribute 'score'",
          "output_type": "error",
          "traceback": [
            "\u001b[0;31m---------------------------------------------------------------------------\u001b[0m",
            "\u001b[0;31mAttributeError\u001b[0m                            Traceback (most recent call last)",
            "Cell \u001b[0;32mIn [24], line 1\u001b[0m\n\u001b[0;32m----> 1\u001b[0m log_likelihood({\u001b[39m'\u001b[39;49m\u001b[39ma\u001b[39;49m\u001b[39m'\u001b[39;49m, \u001b[39m'\u001b[39;49m\u001b[39mb\u001b[39;49m\u001b[39m'\u001b[39;49m, \u001b[39m'\u001b[39;49m\u001b[39mc\u001b[39;49m\u001b[39m'\u001b[39;49m}, {\u001b[39m'\u001b[39;49m\u001b[39md\u001b[39;49m\u001b[39m'\u001b[39;49m, \u001b[39m'\u001b[39;49m\u001b[39me\u001b[39;49m\u001b[39m'\u001b[39;49m}, \u001b[39m\"\u001b[39;49m\u001b[39maa\u001b[39;49m\u001b[39m\"\u001b[39;49m, \u001b[39m\"\u001b[39;49m\u001b[39mdd\u001b[39;49m\u001b[39m\"\u001b[39;49m)\n",
            "Cell \u001b[0;32mIn [23], line 9\u001b[0m, in \u001b[0;36mlog_likelihood\u001b[0;34m(source_alphabet, target_alphabet, source_str, target_str)\u001b[0m\n\u001b[1;32m      7\u001b[0m fst \u001b[39m=\u001b[39m edit_distance_fst(source_alphabet, target_alphabet)\n\u001b[1;32m      8\u001b[0m fst\n\u001b[0;32m----> 9\u001b[0m pathsum \u001b[39m=\u001b[39m Pathsum(fst)\n\u001b[1;32m     10\u001b[0m leh \u001b[39m=\u001b[39m pathsum\u001b[39m.\u001b[39mlehmann()\n\u001b[1;32m     11\u001b[0m logl \u001b[39m=\u001b[39m fst\u001b[39m.\u001b[39mR\u001b[39m.\u001b[39mzero\n",
            "Cell \u001b[0;32mIn [17], line 15\u001b[0m, in \u001b[0;36mPathsum.__init__\u001b[0;34m(self, fsa)\u001b[0m\n\u001b[1;32m     12\u001b[0m     \u001b[39mself\u001b[39m\u001b[39m.\u001b[39mI[q] \u001b[39m=\u001b[39m n\n\u001b[1;32m     14\u001b[0m \u001b[39m# lift into the semiring\u001b[39;00m\n\u001b[0;32m---> 15\u001b[0m \u001b[39mself\u001b[39m\u001b[39m.\u001b[39mW, \u001b[39mself\u001b[39m\u001b[39m.\u001b[39mW_dict, \u001b[39mself\u001b[39m\u001b[39m.\u001b[39malpha, \u001b[39mself\u001b[39m\u001b[39m.\u001b[39mbeta \u001b[39m=\u001b[39m \u001b[39mself\u001b[39;49m\u001b[39m.\u001b[39;49mlift()\n",
            "Cell \u001b[0;32mIn [17], line 31\u001b[0m, in \u001b[0;36mPathsum.lift\u001b[0;34m(self)\u001b[0m\n\u001b[1;32m     29\u001b[0m alpha[\u001b[39mself\u001b[39m\u001b[39m.\u001b[39mI[p]] \u001b[39m+\u001b[39m\u001b[39m=\u001b[39m \u001b[39mself\u001b[39m\u001b[39m.\u001b[39mfsa\u001b[39m.\u001b[39mλ[p]\n\u001b[1;32m     30\u001b[0m beta[\u001b[39mself\u001b[39m\u001b[39m.\u001b[39mI[p]] \u001b[39m+\u001b[39m\u001b[39m=\u001b[39m \u001b[39mself\u001b[39m\u001b[39m.\u001b[39mfsa\u001b[39m.\u001b[39mρ[p]\n\u001b[0;32m---> 31\u001b[0m \u001b[39mfor\u001b[39;00m (a, b), q, w \u001b[39min\u001b[39;00m \u001b[39mself\u001b[39m\u001b[39m.\u001b[39mfsa\u001b[39m.\u001b[39marcs(p):\n\u001b[1;32m     32\u001b[0m     W[\u001b[39mself\u001b[39m\u001b[39m.\u001b[39mI[p], \u001b[39mself\u001b[39m\u001b[39m.\u001b[39mI[q]] \u001b[39m+\u001b[39m\u001b[39m=\u001b[39m w\n\u001b[1;32m     33\u001b[0m     W_dict[a][b][\u001b[39mself\u001b[39m\u001b[39m.\u001b[39mI[p], \u001b[39mself\u001b[39m\u001b[39m.\u001b[39mI[q]] \u001b[39m=\u001b[39m w\n",
            "File \u001b[0;32m~/repos/nlp-assignment/ass3/eth-nlp-f22-hw3/rayuela/fsa/fst.py:82\u001b[0m, in \u001b[0;36mFST.arcs\u001b[0;34m(self, i, no_eps)\u001b[0m\n\u001b[1;32m     80\u001b[0m     \u001b[39mcontinue\u001b[39;00m\n\u001b[1;32m     81\u001b[0m \u001b[39mfor\u001b[39;00m j, w \u001b[39min\u001b[39;00m T\u001b[39m.\u001b[39mitems():\n\u001b[0;32m---> 82\u001b[0m     \u001b[39mif\u001b[39;00m w \u001b[39m==\u001b[39;49m \u001b[39mself\u001b[39;49m\u001b[39m.\u001b[39;49mR\u001b[39m.\u001b[39;49mzero:\n\u001b[1;32m     83\u001b[0m         \u001b[39mcontinue\u001b[39;00m\n\u001b[1;32m     84\u001b[0m     \u001b[39myield\u001b[39;00m ab, j, w\n",
            "Cell \u001b[0;32mIn [4], line 29\u001b[0m, in \u001b[0;36mLog.__eq__\u001b[0;34m(self, other)\u001b[0m\n\u001b[1;32m     28\u001b[0m \u001b[39mdef\u001b[39;00m \u001b[39m__eq__\u001b[39m(\u001b[39mself\u001b[39m, other):\n\u001b[0;32m---> 29\u001b[0m     \u001b[39mreturn\u001b[39;00m np\u001b[39m.\u001b[39mallclose(\u001b[39mfloat\u001b[39m(\u001b[39mself\u001b[39m\u001b[39m.\u001b[39mscore), \u001b[39mfloat\u001b[39m(other\u001b[39m.\u001b[39;49mscore), atol\u001b[39m=\u001b[39m\u001b[39m1e-3\u001b[39m)\n",
            "\u001b[0;31mAttributeError\u001b[0m: 'int' object has no attribute 'score'"
          ]
        }
      ],
      "source": [
        "log_likelihood({'a', 'b', 'c'}, {'d', 'e'}, \"aa\", \"dd\")"
      ]
    },
    {
      "cell_type": "markdown",
      "metadata": {
        "id": "4ookC1XyZVCT"
      },
      "source": [
        "### Subquestion h) - Decoding"
      ]
    },
    {
      "cell_type": "code",
      "execution_count": null,
      "metadata": {
        "id": "Q6UXHrpMZcrV"
      },
      "outputs": [],
      "source": [
        "def to_semiring(fst, semiring):\n",
        "    \"\"\" Lifts an WFST into a different semiring\n",
        "    \"\"\"\n",
        "    oone, one = fst.R.one, semiring.one\n",
        "    nfst = FST(semiring)\n",
        "\n",
        "    # initial weights\n",
        "    for q, w in fst.I:\n",
        "        if w == oone:\n",
        "            nfst.set_I(q, one)\n",
        "        else:\n",
        "            nfst.set_I(q, semiring(w.score))\n",
        "\n",
        "    # final weights\n",
        "    for q, w in fst.F:\n",
        "        if w == oone:\n",
        "            nfst.set_F(q, one)\n",
        "        else:\n",
        "            nfst.set_F(q, semiring(w.score))\n",
        "\n",
        "    # arcs\n",
        "    for p in fst.Q:\n",
        "        for (a, b), q, w in fst.arcs(p):\n",
        "            if w == oone:\n",
        "                nfst.add_arc(p, a, b, q, one)\n",
        "            else:\n",
        "                nfst.add_arc(p, a, b, q, semiring(w.score))\n",
        "\n",
        "    return nfst"
      ]
    },
    {
      "cell_type": "code",
      "execution_count": null,
      "metadata": {
        "id": "YCImTl323bbd"
      },
      "outputs": [],
      "source": [
        "def decode(in_str, edit_distance_fst):\n",
        "    \"\"\" Gets as input a source string and an\n",
        "    edit-distance transducer and returns the weight of the most\n",
        "    probable target string\n",
        "    \"\"\"\n",
        "    # TODO: implement\n",
        "    raise NotImplementedError"
      ]
    }
  ],
  "metadata": {
    "colab": {
      "provenance": []
    },
    "kernelspec": {
      "display_name": "nlp",
      "language": "python",
      "name": "python3"
    },
    "language_info": {
      "codemirror_mode": {
        "name": "ipython",
        "version": 3
      },
      "file_extension": ".py",
      "mimetype": "text/x-python",
      "name": "python",
      "nbconvert_exporter": "python",
      "pygments_lexer": "ipython3",
      "version": "3.10.8"
    },
    "vscode": {
      "interpreter": {
        "hash": "4e1bd50c29ca9d85d25a0084185febf7020f5e8bd5da929d18cf95b16060538f"
      }
    }
  },
  "nbformat": 4,
  "nbformat_minor": 0
}
